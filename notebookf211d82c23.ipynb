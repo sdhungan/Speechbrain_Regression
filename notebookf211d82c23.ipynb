{
 "cells": [
  {
   "cell_type": "code",
   "execution_count": 1,
   "id": "3492ffff",
   "metadata": {
    "execution": {
     "iopub.execute_input": "2024-03-05T11:22:37.961988Z",
     "iopub.status.busy": "2024-03-05T11:22:37.960978Z",
     "iopub.status.idle": "2024-03-05T11:22:54.399795Z",
     "shell.execute_reply": "2024-03-05T11:22:54.398230Z"
    },
    "papermill": {
     "duration": 16.446413,
     "end_time": "2024-03-05T11:22:54.402666",
     "exception": false,
     "start_time": "2024-03-05T11:22:37.956253",
     "status": "completed"
    },
    "tags": []
   },
   "outputs": [
    {
     "name": "stdout",
     "output_type": "stream",
     "text": [
      "Requirement already satisfied: gitpython in /opt/conda/lib/python3.10/site-packages (3.1.41)\r\n",
      "Requirement already satisfied: gitdb<5,>=4.0.1 in /opt/conda/lib/python3.10/site-packages (from gitpython) (4.0.11)\r\n",
      "Requirement already satisfied: smmap<6,>=3.0.1 in /opt/conda/lib/python3.10/site-packages (from gitdb<5,>=4.0.1->gitpython) (5.0.1)\r\n"
     ]
    }
   ],
   "source": [
    "!pip install gitpython"
   ]
  },
  {
   "cell_type": "code",
   "execution_count": 2,
   "id": "9b5a131d",
   "metadata": {
    "_cell_guid": "b1076dfc-b9ad-4769-8c92-a6c4dae69d19",
    "_uuid": "8f2839f25d086af736a60e9eeb907d3b93b6e0e5",
    "execution": {
     "iopub.execute_input": "2024-03-05T11:22:54.410940Z",
     "iopub.status.busy": "2024-03-05T11:22:54.410515Z",
     "iopub.status.idle": "2024-03-05T11:22:58.750701Z",
     "shell.execute_reply": "2024-03-05T11:22:58.749592Z"
    },
    "papermill": {
     "duration": 4.347427,
     "end_time": "2024-03-05T11:22:58.753303",
     "exception": false,
     "start_time": "2024-03-05T11:22:54.405876",
     "status": "completed"
    },
    "tags": []
   },
   "outputs": [
    {
     "data": {
      "text/plain": [
       "<git.repo.base.Repo '/kaggle/working/Speechbrain_regression/.git'>"
      ]
     },
     "execution_count": 2,
     "metadata": {},
     "output_type": "execute_result"
    }
   ],
   "source": [
    "import git\n",
    "git.Repo.clone_from('https://github.com/sdhungan/Speechbrain_Regression.git', '/kaggle/working/Speechbrain_regression')"
   ]
  },
  {
   "cell_type": "code",
   "execution_count": 3,
   "id": "f173844e",
   "metadata": {
    "execution": {
     "iopub.execute_input": "2024-03-05T11:22:58.761934Z",
     "iopub.status.busy": "2024-03-05T11:22:58.760738Z",
     "iopub.status.idle": "2024-03-05T11:23:39.558061Z",
     "shell.execute_reply": "2024-03-05T11:23:39.556904Z"
    },
    "papermill": {
     "duration": 40.804394,
     "end_time": "2024-03-05T11:23:39.560840",
     "exception": false,
     "start_time": "2024-03-05T11:22:58.756446",
     "status": "completed"
    },
    "tags": []
   },
   "outputs": [
    {
     "name": "stdout",
     "output_type": "stream",
     "text": [
      "Ignoring SoundFile: markers 'sys_platform == \"win32\"' don't match your environment\r\n",
      "Collecting black==19.10b0 (from -r /kaggle/working/Speechbrain_regression/lint-requirements.txt (line 1))\r\n",
      "  Downloading black-19.10b0-py36-none-any.whl.metadata (58 kB)\r\n",
      "\u001b[2K     \u001b[90m━━━━━━━━━━━━━━━━━━━━━━━━━━━━━━━━━━━━━━━━\u001b[0m \u001b[32m58.8/58.8 kB\u001b[0m \u001b[31m2.8 MB/s\u001b[0m eta \u001b[36m0:00:00\u001b[0m\r\n",
      "\u001b[?25hCollecting click==8.0.4 (from -r /kaggle/working/Speechbrain_regression/lint-requirements.txt (line 2))\r\n",
      "  Downloading click-8.0.4-py3-none-any.whl.metadata (3.2 kB)\r\n",
      "Collecting flake8==3.7.9 (from -r /kaggle/working/Speechbrain_regression/lint-requirements.txt (line 3))\r\n",
      "  Downloading flake8-3.7.9-py2.py3-none-any.whl.metadata (3.6 kB)\r\n",
      "Collecting pycodestyle==2.5.0 (from -r /kaggle/working/Speechbrain_regression/lint-requirements.txt (line 4))\r\n",
      "  Downloading pycodestyle-2.5.0-py2.py3-none-any.whl.metadata (28 kB)\r\n",
      "Collecting pytest==7.4.0 (from -r /kaggle/working/Speechbrain_regression/lint-requirements.txt (line 5))\r\n",
      "  Downloading pytest-7.4.0-py3-none-any.whl.metadata (8.0 kB)\r\n",
      "Collecting yamllint==1.23.0 (from -r /kaggle/working/Speechbrain_regression/lint-requirements.txt (line 6))\r\n",
      "  Downloading yamllint-1.23.0-py2.py3-none-any.whl.metadata (1.3 kB)\r\n",
      "Requirement already satisfied: huggingface_hub>=0.8.0 in /opt/conda/lib/python3.10/site-packages (from -r /kaggle/working/Speechbrain_regression/requirements.txt (line 2)) (0.20.3)\r\n",
      "Collecting hyperpyyaml>=0.0.1 (from -r /kaggle/working/Speechbrain_regression/requirements.txt (line 3))\r\n",
      "  Downloading HyperPyYAML-1.2.2-py3-none-any.whl.metadata (7.6 kB)\r\n",
      "Requirement already satisfied: joblib>=0.14.1 in /opt/conda/lib/python3.10/site-packages (from -r /kaggle/working/Speechbrain_regression/requirements.txt (line 4)) (1.3.2)\r\n",
      "Requirement already satisfied: numpy>=1.17.0 in /opt/conda/lib/python3.10/site-packages (from -r /kaggle/working/Speechbrain_regression/requirements.txt (line 5)) (1.26.4)\r\n",
      "Requirement already satisfied: packaging in /opt/conda/lib/python3.10/site-packages (from -r /kaggle/working/Speechbrain_regression/requirements.txt (line 6)) (21.3)\r\n",
      "Requirement already satisfied: pandas>=1.0.1 in /opt/conda/lib/python3.10/site-packages (from -r /kaggle/working/Speechbrain_regression/requirements.txt (line 7)) (2.2.0)\r\n",
      "Collecting pre-commit>=2.3.0 (from -r /kaggle/working/Speechbrain_regression/requirements.txt (line 8))\r\n",
      "  Downloading pre_commit-3.6.2-py2.py3-none-any.whl.metadata (1.3 kB)\r\n",
      "Requirement already satisfied: scipy>=1.4.1 in /opt/conda/lib/python3.10/site-packages (from -r /kaggle/working/Speechbrain_regression/requirements.txt (line 9)) (1.11.4)\r\n",
      "Requirement already satisfied: sentencepiece>=0.1.91 in /opt/conda/lib/python3.10/site-packages (from -r /kaggle/working/Speechbrain_regression/requirements.txt (line 10)) (0.2.0)\r\n",
      "Requirement already satisfied: torch>=1.9.0 in /opt/conda/lib/python3.10/site-packages (from -r /kaggle/working/Speechbrain_regression/requirements.txt (line 12)) (2.1.2+cpu)\r\n",
      "Requirement already satisfied: torchaudio>=1.9.0 in /opt/conda/lib/python3.10/site-packages (from -r /kaggle/working/Speechbrain_regression/requirements.txt (line 13)) (2.1.2+cpu)\r\n",
      "Requirement already satisfied: tqdm>=4.42.0 in /opt/conda/lib/python3.10/site-packages (from -r /kaggle/working/Speechbrain_regression/requirements.txt (line 14)) (4.66.1)\r\n",
      "Requirement already satisfied: transformers>=4.30.0 in /opt/conda/lib/python3.10/site-packages (from -r /kaggle/working/Speechbrain_regression/requirements.txt (line 15)) (4.38.1)\r\n",
      "Requirement already satisfied: attrs>=18.1.0 in /opt/conda/lib/python3.10/site-packages (from black==19.10b0->-r /kaggle/working/Speechbrain_regression/lint-requirements.txt (line 1)) (23.2.0)\r\n",
      "Requirement already satisfied: appdirs in /opt/conda/lib/python3.10/site-packages (from black==19.10b0->-r /kaggle/working/Speechbrain_regression/lint-requirements.txt (line 1)) (1.4.4)\r\n",
      "Requirement already satisfied: toml>=0.9.4 in /opt/conda/lib/python3.10/site-packages (from black==19.10b0->-r /kaggle/working/Speechbrain_regression/lint-requirements.txt (line 1)) (0.10.2)\r\n",
      "Collecting typed-ast>=1.4.0 (from black==19.10b0->-r /kaggle/working/Speechbrain_regression/lint-requirements.txt (line 1))\r\n",
      "  Downloading typed_ast-1.5.5-cp310-cp310-manylinux_2_17_x86_64.manylinux2014_x86_64.whl.metadata (1.7 kB)\r\n",
      "Requirement already satisfied: regex in /opt/conda/lib/python3.10/site-packages (from black==19.10b0->-r /kaggle/working/Speechbrain_regression/lint-requirements.txt (line 1)) (2023.12.25)\r\n",
      "Collecting pathspec<1,>=0.6 (from black==19.10b0->-r /kaggle/working/Speechbrain_regression/lint-requirements.txt (line 1))\r\n",
      "  Downloading pathspec-0.12.1-py3-none-any.whl.metadata (21 kB)\r\n",
      "Collecting entrypoints<0.4.0,>=0.3.0 (from flake8==3.7.9->-r /kaggle/working/Speechbrain_regression/lint-requirements.txt (line 3))\r\n",
      "  Downloading entrypoints-0.3-py2.py3-none-any.whl.metadata (1.4 kB)\r\n",
      "Collecting pyflakes<2.2.0,>=2.1.0 (from flake8==3.7.9->-r /kaggle/working/Speechbrain_regression/lint-requirements.txt (line 3))\r\n",
      "  Downloading pyflakes-2.1.1-py2.py3-none-any.whl.metadata (3.8 kB)\r\n",
      "Collecting mccabe<0.7.0,>=0.6.0 (from flake8==3.7.9->-r /kaggle/working/Speechbrain_regression/lint-requirements.txt (line 3))\r\n",
      "  Downloading mccabe-0.6.1-py2.py3-none-any.whl.metadata (4.3 kB)\r\n",
      "Requirement already satisfied: iniconfig in /opt/conda/lib/python3.10/site-packages (from pytest==7.4.0->-r /kaggle/working/Speechbrain_regression/lint-requirements.txt (line 5)) (2.0.0)\r\n",
      "Requirement already satisfied: pluggy<2.0,>=0.12 in /opt/conda/lib/python3.10/site-packages (from pytest==7.4.0->-r /kaggle/working/Speechbrain_regression/lint-requirements.txt (line 5)) (1.3.0)\r\n",
      "Requirement already satisfied: exceptiongroup>=1.0.0rc8 in /opt/conda/lib/python3.10/site-packages (from pytest==7.4.0->-r /kaggle/working/Speechbrain_regression/lint-requirements.txt (line 5)) (1.2.0)\r\n",
      "Requirement already satisfied: tomli>=1.0.0 in /opt/conda/lib/python3.10/site-packages (from pytest==7.4.0->-r /kaggle/working/Speechbrain_regression/lint-requirements.txt (line 5)) (2.0.1)\r\n",
      "Requirement already satisfied: pyyaml in /opt/conda/lib/python3.10/site-packages (from yamllint==1.23.0->-r /kaggle/working/Speechbrain_regression/lint-requirements.txt (line 6)) (6.0.1)\r\n",
      "Requirement already satisfied: filelock in /opt/conda/lib/python3.10/site-packages (from huggingface_hub>=0.8.0->-r /kaggle/working/Speechbrain_regression/requirements.txt (line 2)) (3.13.1)\r\n",
      "Requirement already satisfied: fsspec>=2023.5.0 in /opt/conda/lib/python3.10/site-packages (from huggingface_hub>=0.8.0->-r /kaggle/working/Speechbrain_regression/requirements.txt (line 2)) (2024.2.0)\r\n",
      "Requirement already satisfied: requests in /opt/conda/lib/python3.10/site-packages (from huggingface_hub>=0.8.0->-r /kaggle/working/Speechbrain_regression/requirements.txt (line 2)) (2.31.0)\r\n",
      "Requirement already satisfied: typing-extensions>=3.7.4.3 in /opt/conda/lib/python3.10/site-packages (from huggingface_hub>=0.8.0->-r /kaggle/working/Speechbrain_regression/requirements.txt (line 2)) (4.9.0)\r\n",
      "Requirement already satisfied: ruamel.yaml>=0.17.28 in /opt/conda/lib/python3.10/site-packages (from hyperpyyaml>=0.0.1->-r /kaggle/working/Speechbrain_regression/requirements.txt (line 3)) (0.18.5)\r\n",
      "Requirement already satisfied: pyparsing!=3.0.5,>=2.0.2 in /opt/conda/lib/python3.10/site-packages (from packaging->-r /kaggle/working/Speechbrain_regression/requirements.txt (line 6)) (3.1.1)\r\n",
      "Requirement already satisfied: python-dateutil>=2.8.2 in /opt/conda/lib/python3.10/site-packages (from pandas>=1.0.1->-r /kaggle/working/Speechbrain_regression/requirements.txt (line 7)) (2.8.2)\r\n",
      "Requirement already satisfied: pytz>=2020.1 in /opt/conda/lib/python3.10/site-packages (from pandas>=1.0.1->-r /kaggle/working/Speechbrain_regression/requirements.txt (line 7)) (2023.3.post1)\r\n",
      "Requirement already satisfied: tzdata>=2022.7 in /opt/conda/lib/python3.10/site-packages (from pandas>=1.0.1->-r /kaggle/working/Speechbrain_regression/requirements.txt (line 7)) (2023.4)\r\n",
      "Collecting cfgv>=2.0.0 (from pre-commit>=2.3.0->-r /kaggle/working/Speechbrain_regression/requirements.txt (line 8))\r\n",
      "  Downloading cfgv-3.4.0-py2.py3-none-any.whl.metadata (8.5 kB)\r\n",
      "Collecting identify>=1.0.0 (from pre-commit>=2.3.0->-r /kaggle/working/Speechbrain_regression/requirements.txt (line 8))\r\n",
      "  Downloading identify-2.5.35-py2.py3-none-any.whl.metadata (4.4 kB)\r\n",
      "Collecting nodeenv>=0.11.1 (from pre-commit>=2.3.0->-r /kaggle/working/Speechbrain_regression/requirements.txt (line 8))\r\n",
      "  Downloading nodeenv-1.8.0-py2.py3-none-any.whl.metadata (21 kB)\r\n",
      "Requirement already satisfied: virtualenv>=20.10.0 in /opt/conda/lib/python3.10/site-packages (from pre-commit>=2.3.0->-r /kaggle/working/Speechbrain_regression/requirements.txt (line 8)) (20.21.0)\r\n",
      "Requirement already satisfied: sympy in /opt/conda/lib/python3.10/site-packages (from torch>=1.9.0->-r /kaggle/working/Speechbrain_regression/requirements.txt (line 12)) (1.12)\r\n",
      "Requirement already satisfied: networkx in /opt/conda/lib/python3.10/site-packages (from torch>=1.9.0->-r /kaggle/working/Speechbrain_regression/requirements.txt (line 12)) (3.2.1)\r\n",
      "Requirement already satisfied: jinja2 in /opt/conda/lib/python3.10/site-packages (from torch>=1.9.0->-r /kaggle/working/Speechbrain_regression/requirements.txt (line 12)) (3.1.2)\r\n",
      "Requirement already satisfied: tokenizers<0.19,>=0.14 in /opt/conda/lib/python3.10/site-packages (from transformers>=4.30.0->-r /kaggle/working/Speechbrain_regression/requirements.txt (line 15)) (0.15.2)\r\n",
      "Requirement already satisfied: safetensors>=0.4.1 in /opt/conda/lib/python3.10/site-packages (from transformers>=4.30.0->-r /kaggle/working/Speechbrain_regression/requirements.txt (line 15)) (0.4.2)\r\n",
      "Requirement already satisfied: setuptools in /opt/conda/lib/python3.10/site-packages (from nodeenv>=0.11.1->pre-commit>=2.3.0->-r /kaggle/working/Speechbrain_regression/requirements.txt (line 8)) (69.0.3)\r\n",
      "Requirement already satisfied: six>=1.5 in /opt/conda/lib/python3.10/site-packages (from python-dateutil>=2.8.2->pandas>=1.0.1->-r /kaggle/working/Speechbrain_regression/requirements.txt (line 7)) (1.16.0)\r\n",
      "Requirement already satisfied: ruamel.yaml.clib>=0.2.7 in /opt/conda/lib/python3.10/site-packages (from ruamel.yaml>=0.17.28->hyperpyyaml>=0.0.1->-r /kaggle/working/Speechbrain_regression/requirements.txt (line 3)) (0.2.7)\r\n",
      "Requirement already satisfied: distlib<1,>=0.3.6 in /opt/conda/lib/python3.10/site-packages (from virtualenv>=20.10.0->pre-commit>=2.3.0->-r /kaggle/working/Speechbrain_regression/requirements.txt (line 8)) (0.3.8)\r\n",
      "Collecting platformdirs<4,>=2.4 (from virtualenv>=20.10.0->pre-commit>=2.3.0->-r /kaggle/working/Speechbrain_regression/requirements.txt (line 8))\r\n",
      "  Downloading platformdirs-3.11.0-py3-none-any.whl.metadata (11 kB)\r\n",
      "Requirement already satisfied: MarkupSafe>=2.0 in /opt/conda/lib/python3.10/site-packages (from jinja2->torch>=1.9.0->-r /kaggle/working/Speechbrain_regression/requirements.txt (line 12)) (2.1.3)\r\n",
      "Requirement already satisfied: charset-normalizer<4,>=2 in /opt/conda/lib/python3.10/site-packages (from requests->huggingface_hub>=0.8.0->-r /kaggle/working/Speechbrain_regression/requirements.txt (line 2)) (3.3.2)\r\n",
      "Requirement already satisfied: idna<4,>=2.5 in /opt/conda/lib/python3.10/site-packages (from requests->huggingface_hub>=0.8.0->-r /kaggle/working/Speechbrain_regression/requirements.txt (line 2)) (3.6)\r\n",
      "Requirement already satisfied: urllib3<3,>=1.21.1 in /opt/conda/lib/python3.10/site-packages (from requests->huggingface_hub>=0.8.0->-r /kaggle/working/Speechbrain_regression/requirements.txt (line 2)) (1.26.18)\r\n",
      "Requirement already satisfied: certifi>=2017.4.17 in /opt/conda/lib/python3.10/site-packages (from requests->huggingface_hub>=0.8.0->-r /kaggle/working/Speechbrain_regression/requirements.txt (line 2)) (2024.2.2)\r\n",
      "Requirement already satisfied: mpmath>=0.19 in /opt/conda/lib/python3.10/site-packages (from sympy->torch>=1.9.0->-r /kaggle/working/Speechbrain_regression/requirements.txt (line 12)) (1.3.0)\r\n",
      "Downloading black-19.10b0-py36-none-any.whl (97 kB)\r\n",
      "\u001b[2K   \u001b[90m━━━━━━━━━━━━━━━━━━━━━━━━━━━━━━━━━━━━━━━━\u001b[0m \u001b[32m97.5/97.5 kB\u001b[0m \u001b[31m4.8 MB/s\u001b[0m eta \u001b[36m0:00:00\u001b[0m\r\n",
      "\u001b[?25hDownloading click-8.0.4-py3-none-any.whl (97 kB)\r\n",
      "\u001b[2K   \u001b[90m━━━━━━━━━━━━━━━━━━━━━━━━━━━━━━━━━━━━━━━━\u001b[0m \u001b[32m97.5/97.5 kB\u001b[0m \u001b[31m5.3 MB/s\u001b[0m eta \u001b[36m0:00:00\u001b[0m\r\n",
      "\u001b[?25hDownloading flake8-3.7.9-py2.py3-none-any.whl (69 kB)\r\n",
      "\u001b[2K   \u001b[90m━━━━━━━━━━━━━━━━━━━━━━━━━━━━━━━━━━━━━━━━\u001b[0m \u001b[32m69.9/69.9 kB\u001b[0m \u001b[31m3.7 MB/s\u001b[0m eta \u001b[36m0:00:00\u001b[0m\r\n",
      "\u001b[?25hDownloading pycodestyle-2.5.0-py2.py3-none-any.whl (51 kB)\r\n",
      "\u001b[2K   \u001b[90m━━━━━━━━━━━━━━━━━━━━━━━━━━━━━━━━━━━━━━━━\u001b[0m \u001b[32m51.2/51.2 kB\u001b[0m \u001b[31m2.4 MB/s\u001b[0m eta \u001b[36m0:00:00\u001b[0m\r\n",
      "\u001b[?25hDownloading pytest-7.4.0-py3-none-any.whl (323 kB)\r\n",
      "\u001b[2K   \u001b[90m━━━━━━━━━━━━━━━━━━━━━━━━━━━━━━━━━━━━━━━━\u001b[0m \u001b[32m323.6/323.6 kB\u001b[0m \u001b[31m14.4 MB/s\u001b[0m eta \u001b[36m0:00:00\u001b[0m\r\n",
      "\u001b[?25hDownloading yamllint-1.23.0-py2.py3-none-any.whl (58 kB)\r\n",
      "\u001b[2K   \u001b[90m━━━━━━━━━━━━━━━━━━━━━━━━━━━━━━━━━━━━━━━━\u001b[0m \u001b[32m58.8/58.8 kB\u001b[0m \u001b[31m2.7 MB/s\u001b[0m eta \u001b[36m0:00:00\u001b[0m\r\n",
      "\u001b[?25hDownloading HyperPyYAML-1.2.2-py3-none-any.whl (16 kB)\r\n",
      "Downloading pre_commit-3.6.2-py2.py3-none-any.whl (204 kB)\r\n",
      "\u001b[2K   \u001b[90m━━━━━━━━━━━━━━━━━━━━━━━━━━━━━━━━━━━━━━━━\u001b[0m \u001b[32m204.2/204.2 kB\u001b[0m \u001b[31m11.3 MB/s\u001b[0m eta \u001b[36m0:00:00\u001b[0m\r\n",
      "\u001b[?25hDownloading cfgv-3.4.0-py2.py3-none-any.whl (7.2 kB)\r\n",
      "Downloading entrypoints-0.3-py2.py3-none-any.whl (11 kB)\r\n",
      "Downloading identify-2.5.35-py2.py3-none-any.whl (98 kB)\r\n",
      "\u001b[2K   \u001b[90m━━━━━━━━━━━━━━━━━━━━━━━━━━━━━━━━━━━━━━━━\u001b[0m \u001b[32m98.9/98.9 kB\u001b[0m \u001b[31m5.2 MB/s\u001b[0m eta \u001b[36m0:00:00\u001b[0m\r\n",
      "\u001b[?25hDownloading mccabe-0.6.1-py2.py3-none-any.whl (8.6 kB)\r\n",
      "Downloading nodeenv-1.8.0-py2.py3-none-any.whl (22 kB)\r\n",
      "Downloading pathspec-0.12.1-py3-none-any.whl (31 kB)\r\n",
      "Downloading pyflakes-2.1.1-py2.py3-none-any.whl (59 kB)\r\n",
      "\u001b[2K   \u001b[90m━━━━━━━━━━━━━━━━━━━━━━━━━━━━━━━━━━━━━━━━\u001b[0m \u001b[32m60.0/60.0 kB\u001b[0m \u001b[31m2.7 MB/s\u001b[0m eta \u001b[36m0:00:00\u001b[0m\r\n",
      "\u001b[?25hDownloading typed_ast-1.5.5-cp310-cp310-manylinux_2_17_x86_64.manylinux2014_x86_64.whl (824 kB)\r\n",
      "\u001b[2K   \u001b[90m━━━━━━━━━━━━━━━━━━━━━━━━━━━━━━━━━━━━━━━━\u001b[0m \u001b[32m824.7/824.7 kB\u001b[0m \u001b[31m29.9 MB/s\u001b[0m eta \u001b[36m0:00:00\u001b[0m\r\n",
      "\u001b[?25hDownloading platformdirs-3.11.0-py3-none-any.whl (17 kB)\r\n",
      "Installing collected packages: mccabe, typed-ast, pyflakes, pycodestyle, platformdirs, pathspec, nodeenv, identify, entrypoints, click, cfgv, yamllint, pytest, hyperpyyaml, flake8, black, pre-commit\r\n",
      "  Attempting uninstall: mccabe\r\n",
      "    Found existing installation: mccabe 0.7.0\r\n",
      "    Uninstalling mccabe-0.7.0:\r\n",
      "      Successfully uninstalled mccabe-0.7.0\r\n",
      "  Attempting uninstall: pyflakes\r\n",
      "    Found existing installation: pyflakes 3.2.0\r\n",
      "    Uninstalling pyflakes-3.2.0:\r\n",
      "      Successfully uninstalled pyflakes-3.2.0\r\n",
      "  Attempting uninstall: pycodestyle\r\n",
      "    Found existing installation: pycodestyle 2.11.1\r\n",
      "    Uninstalling pycodestyle-2.11.1:\r\n",
      "      Successfully uninstalled pycodestyle-2.11.1\r\n",
      "  Attempting uninstall: platformdirs\r\n",
      "    Found existing installation: platformdirs 4.2.0\r\n",
      "    Uninstalling platformdirs-4.2.0:\r\n",
      "      Successfully uninstalled platformdirs-4.2.0\r\n",
      "  Attempting uninstall: entrypoints\r\n",
      "    Found existing installation: entrypoints 0.4\r\n",
      "    Uninstalling entrypoints-0.4:\r\n",
      "      Successfully uninstalled entrypoints-0.4\r\n",
      "  Attempting uninstall: click\r\n",
      "    Found existing installation: click 8.1.7\r\n",
      "    Uninstalling click-8.1.7:\r\n",
      "      Successfully uninstalled click-8.1.7\r\n",
      "  Attempting uninstall: pytest\r\n",
      "    Found existing installation: pytest 8.0.1\r\n",
      "    Uninstalling pytest-8.0.1:\r\n",
      "      Successfully uninstalled pytest-8.0.1\r\n",
      "  Attempting uninstall: flake8\r\n",
      "    Found existing installation: flake8 7.0.0\r\n",
      "    Uninstalling flake8-7.0.0:\r\n",
      "      Successfully uninstalled flake8-7.0.0\r\n",
      "\u001b[31mERROR: pip's dependency resolver does not currently take into account all the packages that are installed. This behaviour is the source of the following dependency conflicts.\r\n",
      "autopep8 2.0.4 requires pycodestyle>=2.10.0, but you have pycodestyle 2.5.0 which is incompatible.\r\n",
      "conda 23.11.0 requires packaging>=23.0, but you have packaging 21.3 which is incompatible.\r\n",
      "dask 2024.2.0 requires click>=8.1, but you have click 8.0.4 which is incompatible.\r\n",
      "fitter 1.7.0 requires click<9.0.0,>=8.1.6, but you have click 8.0.4 which is incompatible.\r\n",
      "flask 3.0.2 requires click>=8.1.3, but you have click 8.0.4 which is incompatible.\r\n",
      "jupyterlab 4.1.2 requires jupyter-lsp>=2.0.0, but you have jupyter-lsp 1.5.1 which is incompatible.\r\n",
      "jupyterlab-lsp 5.0.3 requires jupyter-lsp>=2.0.0, but you have jupyter-lsp 1.5.1 which is incompatible.\r\n",
      "kfp 2.5.0 requires google-cloud-storage<3,>=2.2.1, but you have google-cloud-storage 1.44.0 which is incompatible.\r\n",
      "libpysal 4.9.2 requires packaging>=22, but you have packaging 21.3 which is incompatible.\r\n",
      "libpysal 4.9.2 requires shapely>=2.0.1, but you have shapely 1.8.5.post1 which is incompatible.\r\n",
      "momepy 0.7.0 requires shapely>=2, but you have shapely 1.8.5.post1 which is incompatible.\r\n",
      "osmnx 1.9.1 requires shapely>=2.0, but you have shapely 1.8.5.post1 which is incompatible.\r\n",
      "spopt 0.6.0 requires shapely>=2.0.1, but you have shapely 1.8.5.post1 which is incompatible.\u001b[0m\u001b[31m\r\n",
      "\u001b[0mSuccessfully installed black-19.10b0 cfgv-3.4.0 click-8.0.4 entrypoints-0.3 flake8-3.7.9 hyperpyyaml-1.2.2 identify-2.5.35 mccabe-0.6.1 nodeenv-1.8.0 pathspec-0.12.1 platformdirs-3.11.0 pre-commit-3.6.2 pycodestyle-2.5.0 pyflakes-2.1.1 pytest-7.4.0 typed-ast-1.5.5 yamllint-1.23.0\r\n"
     ]
    }
   ],
   "source": [
    "!pip install -r /kaggle/working/Speechbrain_regression/requirements.txt"
   ]
  },
  {
   "cell_type": "code",
   "execution_count": 4,
   "id": "4cc616c5",
   "metadata": {
    "execution": {
     "iopub.execute_input": "2024-03-05T11:23:39.581695Z",
     "iopub.status.busy": "2024-03-05T11:23:39.581302Z",
     "iopub.status.idle": "2024-03-05T11:24:10.828762Z",
     "shell.execute_reply": "2024-03-05T11:24:10.827655Z"
    },
    "papermill": {
     "duration": 31.261448,
     "end_time": "2024-03-05T11:24:10.831558",
     "exception": false,
     "start_time": "2024-03-05T11:23:39.570110",
     "status": "completed"
    },
    "tags": []
   },
   "outputs": [
    {
     "name": "stdout",
     "output_type": "stream",
     "text": [
      "Obtaining file:///kaggle/working/Speechbrain_regression\r\n",
      "  Installing build dependencies ... \u001b[?25l-\b \b\\\b \b|\b \b/\b \b-\b \bdone\r\n",
      "\u001b[?25h  Checking if build backend supports build_editable ... \u001b[?25ldone\r\n",
      "\u001b[?25h  Getting requirements to build editable ... \u001b[?25ldone\r\n",
      "\u001b[?25h  Preparing editable metadata (pyproject.toml) ... \u001b[?25ldone\r\n",
      "\u001b[?25hRequirement already satisfied: hyperpyyaml in /opt/conda/lib/python3.10/site-packages (from speechbrain==0.5.15) (1.2.2)\r\n",
      "Requirement already satisfied: joblib in /opt/conda/lib/python3.10/site-packages (from speechbrain==0.5.15) (1.3.2)\r\n",
      "Requirement already satisfied: numpy in /opt/conda/lib/python3.10/site-packages (from speechbrain==0.5.15) (1.26.4)\r\n",
      "Requirement already satisfied: packaging in /opt/conda/lib/python3.10/site-packages (from speechbrain==0.5.15) (21.3)\r\n",
      "Requirement already satisfied: scipy in /opt/conda/lib/python3.10/site-packages (from speechbrain==0.5.15) (1.11.4)\r\n",
      "Requirement already satisfied: sentencepiece in /opt/conda/lib/python3.10/site-packages (from speechbrain==0.5.15) (0.2.0)\r\n",
      "Requirement already satisfied: torch>=1.9 in /opt/conda/lib/python3.10/site-packages (from speechbrain==0.5.15) (2.1.2+cpu)\r\n",
      "Requirement already satisfied: torchaudio in /opt/conda/lib/python3.10/site-packages (from speechbrain==0.5.15) (2.1.2+cpu)\r\n",
      "Requirement already satisfied: tqdm in /opt/conda/lib/python3.10/site-packages (from speechbrain==0.5.15) (4.66.1)\r\n",
      "Requirement already satisfied: huggingface-hub in /opt/conda/lib/python3.10/site-packages (from speechbrain==0.5.15) (0.20.3)\r\n",
      "Requirement already satisfied: filelock in /opt/conda/lib/python3.10/site-packages (from torch>=1.9->speechbrain==0.5.15) (3.13.1)\r\n",
      "Requirement already satisfied: typing-extensions in /opt/conda/lib/python3.10/site-packages (from torch>=1.9->speechbrain==0.5.15) (4.9.0)\r\n",
      "Requirement already satisfied: sympy in /opt/conda/lib/python3.10/site-packages (from torch>=1.9->speechbrain==0.5.15) (1.12)\r\n",
      "Requirement already satisfied: networkx in /opt/conda/lib/python3.10/site-packages (from torch>=1.9->speechbrain==0.5.15) (3.2.1)\r\n",
      "Requirement already satisfied: jinja2 in /opt/conda/lib/python3.10/site-packages (from torch>=1.9->speechbrain==0.5.15) (3.1.2)\r\n",
      "Requirement already satisfied: fsspec in /opt/conda/lib/python3.10/site-packages (from torch>=1.9->speechbrain==0.5.15) (2024.2.0)\r\n",
      "Requirement already satisfied: requests in /opt/conda/lib/python3.10/site-packages (from huggingface-hub->speechbrain==0.5.15) (2.31.0)\r\n",
      "Requirement already satisfied: pyyaml>=5.1 in /opt/conda/lib/python3.10/site-packages (from huggingface-hub->speechbrain==0.5.15) (6.0.1)\r\n",
      "Requirement already satisfied: pyparsing!=3.0.5,>=2.0.2 in /opt/conda/lib/python3.10/site-packages (from packaging->speechbrain==0.5.15) (3.1.1)\r\n",
      "Requirement already satisfied: ruamel.yaml>=0.17.28 in /opt/conda/lib/python3.10/site-packages (from hyperpyyaml->speechbrain==0.5.15) (0.18.5)\r\n",
      "Requirement already satisfied: ruamel.yaml.clib>=0.2.7 in /opt/conda/lib/python3.10/site-packages (from ruamel.yaml>=0.17.28->hyperpyyaml->speechbrain==0.5.15) (0.2.7)\r\n",
      "Requirement already satisfied: MarkupSafe>=2.0 in /opt/conda/lib/python3.10/site-packages (from jinja2->torch>=1.9->speechbrain==0.5.15) (2.1.3)\r\n",
      "Requirement already satisfied: charset-normalizer<4,>=2 in /opt/conda/lib/python3.10/site-packages (from requests->huggingface-hub->speechbrain==0.5.15) (3.3.2)\r\n",
      "Requirement already satisfied: idna<4,>=2.5 in /opt/conda/lib/python3.10/site-packages (from requests->huggingface-hub->speechbrain==0.5.15) (3.6)\r\n",
      "Requirement already satisfied: urllib3<3,>=1.21.1 in /opt/conda/lib/python3.10/site-packages (from requests->huggingface-hub->speechbrain==0.5.15) (1.26.18)\r\n",
      "Requirement already satisfied: certifi>=2017.4.17 in /opt/conda/lib/python3.10/site-packages (from requests->huggingface-hub->speechbrain==0.5.15) (2024.2.2)\r\n",
      "Requirement already satisfied: mpmath>=0.19 in /opt/conda/lib/python3.10/site-packages (from sympy->torch>=1.9->speechbrain==0.5.15) (1.3.0)\r\n",
      "Building wheels for collected packages: speechbrain\r\n",
      "  Building editable for speechbrain (pyproject.toml) ... \u001b[?25l-\b \bdone\r\n",
      "\u001b[?25h  Created wheel for speechbrain: filename=speechbrain-0.5.15-0.editable-py3-none-any.whl size=14832 sha256=deb8316502e91b4c23db05de75c6bfffbdd107d287c2f8dd0f69f8c9fa1621f7\r\n",
      "  Stored in directory: /tmp/pip-ephem-wheel-cache-394i_srl/wheels/e7/02/92/30eef923dbfcbf01924b344424095173337edf7c1798025b32\r\n",
      "Successfully built speechbrain\r\n",
      "Installing collected packages: speechbrain\r\n",
      "Successfully installed speechbrain-0.5.15\r\n"
     ]
    }
   ],
   "source": [
    "!pip install --editable /kaggle/working/Speechbrain_regression"
   ]
  }
 ],
 "metadata": {
  "kaggle": {
   "accelerator": "none",
   "dataSources": [
    {
     "datasetId": 4540124,
     "sourceId": 7762686,
     "sourceType": "datasetVersion"
    }
   ],
   "dockerImageVersionId": 30664,
   "isGpuEnabled": false,
   "isInternetEnabled": true,
   "language": "python",
   "sourceType": "notebook"
  },
  "kernelspec": {
   "display_name": "Python 3",
   "language": "python",
   "name": "python3"
  },
  "language_info": {
   "codemirror_mode": {
    "name": "ipython",
    "version": 3
   },
   "file_extension": ".py",
   "mimetype": "text/x-python",
   "name": "python",
   "nbconvert_exporter": "python",
   "pygments_lexer": "ipython3",
   "version": "3.10.13"
  },
  "papermill": {
   "default_parameters": {},
   "duration": 96.455584,
   "end_time": "2024-03-05T11:24:11.263859",
   "environment_variables": {},
   "exception": null,
   "input_path": "__notebook__.ipynb",
   "output_path": "__notebook__.ipynb",
   "parameters": {},
   "start_time": "2024-03-05T11:22:34.808275",
   "version": "2.5.0"
  }
 },
 "nbformat": 4,
 "nbformat_minor": 5
}
