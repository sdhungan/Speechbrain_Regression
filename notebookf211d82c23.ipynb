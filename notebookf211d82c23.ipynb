{
 "cells": [
  {
   "cell_type": "code",
   "execution_count": 1,
   "id": "ed7cb40c",
   "metadata": {
    "execution": {
     "iopub.execute_input": "2024-03-10T11:55:53.285669Z",
     "iopub.status.busy": "2024-03-10T11:55:53.285352Z",
     "iopub.status.idle": "2024-03-10T11:55:53.289345Z",
     "shell.execute_reply": "2024-03-10T11:55:53.288747Z"
    },
    "papermill": {
     "duration": 0.009647,
     "end_time": "2024-03-10T11:55:53.290957",
     "exception": false,
     "start_time": "2024-03-10T11:55:53.281310",
     "status": "completed"
    },
    "tags": []
   },
   "outputs": [],
   "source": [
    "#!pip install gitpython"
   ]
  },
  {
   "cell_type": "code",
   "execution_count": 2,
   "id": "13cd018d",
   "metadata": {
    "_cell_guid": "b1076dfc-b9ad-4769-8c92-a6c4dae69d19",
    "_uuid": "8f2839f25d086af736a60e9eeb907d3b93b6e0e5",
    "execution": {
     "iopub.execute_input": "2024-03-10T11:55:53.296922Z",
     "iopub.status.busy": "2024-03-10T11:55:53.296247Z",
     "iopub.status.idle": "2024-03-10T11:55:53.350494Z",
     "shell.execute_reply": "2024-03-10T11:55:53.349672Z"
    },
    "papermill": {
     "duration": 0.059331,
     "end_time": "2024-03-10T11:55:53.352651",
     "exception": false,
     "start_time": "2024-03-10T11:55:53.293320",
     "status": "completed"
    },
    "tags": []
   },
   "outputs": [],
   "source": [
    "import git\n",
    "\n",
    "import shutil\n",
    "def RESET_WORKING_REPO(repo=True, results=True):\n",
    "    if repo:\n",
    "        shutil.rmtree('/kaggle/working/Speechbrain_regression')\n",
    "    if results:\n",
    "        shutil.rmtree('/kaggle/working/results')\n",
    "    \n",
    "def clone():\n",
    "    # URL of the repository to clone\n",
    "    \n",
    "    repo_url = 'https://github.com/sdhungan/Speechbrain_Regression.git'\n",
    "\n",
    "    # The path where the repository will be cloned\n",
    "    clone_path = '/kaggle/working/Speechbrain_regression'\n",
    "\n",
    "    # Name of the branch you want to clone\n",
    "    branch_name = 'kaggle'\n",
    "\n",
    "    # Cloning the specific branch\n",
    "    git.Repo.clone_from(repo_url, clone_path, branch=branch_name)\n",
    "    \n",
    "def initialise():\n",
    "    !pip install -r /kaggle/working/Speechbrain_regression/requirements.txt\n",
    "    !pip install --editable /kaggle/working/Speechbrain_regression\n",
    "    !pip install -U speechbrain"
   ]
  },
  {
   "cell_type": "code",
   "execution_count": 3,
   "id": "b61a95a9",
   "metadata": {
    "execution": {
     "iopub.execute_input": "2024-03-10T11:55:53.358267Z",
     "iopub.status.busy": "2024-03-10T11:55:53.357945Z",
     "iopub.status.idle": "2024-03-10T11:55:53.361563Z",
     "shell.execute_reply": "2024-03-10T11:55:53.360878Z"
    },
    "papermill": {
     "duration": 0.008068,
     "end_time": "2024-03-10T11:55:53.363133",
     "exception": false,
     "start_time": "2024-03-10T11:55:53.355065",
     "status": "completed"
    },
    "tags": []
   },
   "outputs": [],
   "source": [
    "RESET_WORKING_REPO(repo=False,results=False)\n",
    "#clone()\n",
    "#initialise()"
   ]
  },
  {
   "cell_type": "markdown",
   "id": "e67cb7a9",
   "metadata": {
    "papermill": {
     "duration": 0.001848,
     "end_time": "2024-03-10T11:55:53.367217",
     "exception": false,
     "start_time": "2024-03-10T11:55:53.365369",
     "status": "completed"
    },
    "tags": []
   },
   "source": [
    "# AFTER THESE STEPS, it should be ready to train on the data"
   ]
  },
  {
   "cell_type": "code",
   "execution_count": 4,
   "id": "21729850",
   "metadata": {
    "execution": {
     "iopub.execute_input": "2024-03-10T11:55:53.373044Z",
     "iopub.status.busy": "2024-03-10T11:55:53.372280Z",
     "iopub.status.idle": "2024-03-10T11:55:53.376190Z",
     "shell.execute_reply": "2024-03-10T11:55:53.375436Z"
    },
    "papermill": {
     "duration": 0.008813,
     "end_time": "2024-03-10T11:55:53.378031",
     "exception": false,
     "start_time": "2024-03-10T11:55:53.369218",
     "status": "completed"
    },
    "tags": []
   },
   "outputs": [],
   "source": [
    "#initialise()"
   ]
  },
  {
   "cell_type": "code",
   "execution_count": 5,
   "id": "b3ac8057",
   "metadata": {
    "execution": {
     "iopub.execute_input": "2024-03-10T11:55:53.383781Z",
     "iopub.status.busy": "2024-03-10T11:55:53.383484Z",
     "iopub.status.idle": "2024-03-10T11:55:53.386798Z",
     "shell.execute_reply": "2024-03-10T11:55:53.386260Z"
    },
    "papermill": {
     "duration": 0.007808,
     "end_time": "2024-03-10T11:55:53.388230",
     "exception": false,
     "start_time": "2024-03-10T11:55:53.380422",
     "status": "completed"
    },
    "tags": []
   },
   "outputs": [],
   "source": [
    "#!python /kaggle/working/Speechbrain_regression/recipes/IEMOCAP/emotion_recognition/train_with_wav2vec2.py /kaggle/working/Speechbrain_regression/recipes/IEMOCAP/emotion_recognition/hparams/train_with_wav2vec2.yaml --data_folder /kaggle/input/iemocap-7zip/IEMOCAP_full_release"
   ]
  },
  {
   "cell_type": "code",
   "execution_count": 6,
   "id": "41e9d6e1",
   "metadata": {
    "execution": {
     "iopub.execute_input": "2024-03-10T11:55:53.394017Z",
     "iopub.status.busy": "2024-03-10T11:55:53.393354Z",
     "iopub.status.idle": "2024-03-10T11:55:53.397201Z",
     "shell.execute_reply": "2024-03-10T11:55:53.396258Z"
    },
    "papermill": {
     "duration": 0.008206,
     "end_time": "2024-03-10T11:55:53.398701",
     "exception": false,
     "start_time": "2024-03-10T11:55:53.390495",
     "status": "completed"
    },
    "tags": []
   },
   "outputs": [],
   "source": [
    "import shutil\n",
    "#shutil.make_archive(\"/kaggle/working\", 'zip', \"/kaggle/working/results\")"
   ]
  }
 ],
 "metadata": {
  "kaggle": {
   "accelerator": "none",
   "dataSources": [
    {
     "datasetId": 4550026,
     "sourceId": 7776238,
     "sourceType": "datasetVersion"
    }
   ],
   "dockerImageVersionId": 30664,
   "isGpuEnabled": false,
   "isInternetEnabled": true,
   "language": "python",
   "sourceType": "notebook"
  },
  "kernelspec": {
   "display_name": "Python 3",
   "language": "python",
   "name": "python3"
  },
  "language_info": {
   "codemirror_mode": {
    "name": "ipython",
    "version": 3
   },
   "file_extension": ".py",
   "mimetype": "text/x-python",
   "name": "python",
   "nbconvert_exporter": "python",
   "pygments_lexer": "ipython3",
   "version": "3.10.13"
  },
  "papermill": {
   "default_parameters": {},
   "duration": 2.471409,
   "end_time": "2024-03-10T11:55:53.617158",
   "environment_variables": {},
   "exception": null,
   "input_path": "__notebook__.ipynb",
   "output_path": "__notebook__.ipynb",
   "parameters": {},
   "start_time": "2024-03-10T11:55:51.145749",
   "version": "2.5.0"
  }
 },
 "nbformat": 4,
 "nbformat_minor": 5
}
